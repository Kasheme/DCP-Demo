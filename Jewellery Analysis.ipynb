{
 "cells": [
  {
   "cell_type": "markdown",
   "metadata": {},
   "source": [
    "# Jewelry Analysis"
   ]
  },
  {
   "cell_type": "code",
   "execution_count": 13,
   "metadata": {},
   "outputs": [],
   "source": [
    "import pandas as pd\n",
    "import numpy as np\n",
    "import plotly.express as px"
   ]
  },
  {
   "cell_type": "code",
   "execution_count": 15,
   "metadata": {},
   "outputs": [],
   "source": [
    "data = pd.read_csv(\"jewellery.csv\")"
   ]
  },
  {
   "cell_type": "markdown",
   "metadata": {},
   "source": [
    "### Data Cleanising"
   ]
  },
  {
   "cell_type": "code",
   "execution_count": 16,
   "metadata": {},
   "outputs": [
    {
     "data": {
      "text/html": [
       "<div>\n",
       "<style scoped>\n",
       "    .dataframe tbody tr th:only-of-type {\n",
       "        vertical-align: middle;\n",
       "    }\n",
       "\n",
       "    .dataframe tbody tr th {\n",
       "        vertical-align: top;\n",
       "    }\n",
       "\n",
       "    .dataframe thead th {\n",
       "        text-align: right;\n",
       "    }\n",
       "</style>\n",
       "<table border=\"1\" class=\"dataframe\">\n",
       "  <thead>\n",
       "    <tr style=\"text-align: right;\">\n",
       "      <th></th>\n",
       "      <th>Order datetime</th>\n",
       "      <th>Order ID</th>\n",
       "      <th>Purchased product ID</th>\n",
       "      <th>Quantity</th>\n",
       "      <th>Category ID</th>\n",
       "      <th>Category alias</th>\n",
       "      <th>Brand ID</th>\n",
       "      <th>Price in USD</th>\n",
       "      <th>User ID</th>\n",
       "      <th>Product gender</th>\n",
       "      <th>Main color</th>\n",
       "      <th>Main metal</th>\n",
       "      <th>main gem</th>\n",
       "    </tr>\n",
       "  </thead>\n",
       "  <tbody>\n",
       "    <tr>\n",
       "      <th>0</th>\n",
       "      <td>2018-12-01 11:40:29</td>\n",
       "      <td>1.924720e+18</td>\n",
       "      <td>1.842200e+18</td>\n",
       "      <td>1</td>\n",
       "      <td>1.806830e+18</td>\n",
       "      <td>jewelry.earring</td>\n",
       "      <td>0.0</td>\n",
       "      <td>561.51</td>\n",
       "      <td>1.515920e+18</td>\n",
       "      <td>NaN</td>\n",
       "      <td>red</td>\n",
       "      <td>gold</td>\n",
       "      <td>diamond</td>\n",
       "    </tr>\n",
       "    <tr>\n",
       "      <th>1</th>\n",
       "      <td>2018-12-02 13:53:42</td>\n",
       "      <td>1.925510e+18</td>\n",
       "      <td>1.842210e+18</td>\n",
       "      <td>1</td>\n",
       "      <td>1.806830e+18</td>\n",
       "      <td>jewelry.pendant</td>\n",
       "      <td>1.0</td>\n",
       "      <td>54.66</td>\n",
       "      <td>1.515920e+18</td>\n",
       "      <td>f</td>\n",
       "      <td>white</td>\n",
       "      <td>gold</td>\n",
       "      <td>sapphire</td>\n",
       "    </tr>\n",
       "    <tr>\n",
       "      <th>2</th>\n",
       "      <td>2018-12-02 17:44:02</td>\n",
       "      <td>1.925630e+18</td>\n",
       "      <td>1.835570e+18</td>\n",
       "      <td>1</td>\n",
       "      <td>1.806830e+18</td>\n",
       "      <td>jewelry.pendant</td>\n",
       "      <td>0.0</td>\n",
       "      <td>88.90</td>\n",
       "      <td>1.515920e+18</td>\n",
       "      <td>f</td>\n",
       "      <td>red</td>\n",
       "      <td>gold</td>\n",
       "      <td>diamond</td>\n",
       "    </tr>\n",
       "  </tbody>\n",
       "</table>\n",
       "</div>"
      ],
      "text/plain": [
       "          Order datetime      Order ID  Purchased product ID  Quantity  \\\n",
       "0  2018-12-01 11:40:29    1.924720e+18          1.842200e+18         1   \n",
       "1  2018-12-02 13:53:42    1.925510e+18          1.842210e+18         1   \n",
       "2  2018-12-02 17:44:02    1.925630e+18          1.835570e+18         1   \n",
       "\n",
       "    Category ID   Category alias  Brand ID  Price in USD       User ID  \\\n",
       "0  1.806830e+18  jewelry.earring       0.0        561.51  1.515920e+18   \n",
       "1  1.806830e+18  jewelry.pendant       1.0         54.66  1.515920e+18   \n",
       "2  1.806830e+18  jewelry.pendant       0.0         88.90  1.515920e+18   \n",
       "\n",
       "  Product gender Main color Main metal  main gem  \n",
       "0            NaN        red       gold   diamond  \n",
       "1              f      white       gold  sapphire  \n",
       "2              f        red       gold   diamond  "
      ]
     },
     "execution_count": 16,
     "metadata": {},
     "output_type": "execute_result"
    }
   ],
   "source": [
    "# Inspect dataframe\n",
    "data.head(3)"
   ]
  },
  {
   "cell_type": "code",
   "execution_count": 17,
   "metadata": {},
   "outputs": [],
   "source": [
    "# Remove unnecessary columns\n",
    "data = data.drop(columns=['Order ID', 'Purchased product ID', 'Quantity', \n",
    "                          'Category ID', 'Brand ID', 'User ID', 'Product gender'])"
   ]
  },
  {
   "cell_type": "code",
   "execution_count": 18,
   "metadata": {},
   "outputs": [
    {
     "name": "stdout",
     "output_type": "stream",
     "text": [
      "<class 'pandas.core.frame.DataFrame'>\n",
      "RangeIndex: 10060 entries, 0 to 10059\n",
      "Data columns (total 6 columns):\n",
      " #   Column          Non-Null Count  Dtype  \n",
      "---  ------          --------------  -----  \n",
      " 0   Order datetime  10060 non-null  object \n",
      " 1   Category alias  10060 non-null  object \n",
      " 2   Price in USD    10060 non-null  float64\n",
      " 3   Main color      10060 non-null  object \n",
      " 4   Main metal      10060 non-null  object \n",
      " 5   main gem        10060 non-null  object \n",
      "dtypes: float64(1), object(5)\n",
      "memory usage: 471.7+ KB\n"
     ]
    }
   ],
   "source": [
    "# Check for missing values\n",
    "data.info()"
   ]
  },
  {
   "cell_type": "code",
   "execution_count": 19,
   "metadata": {},
   "outputs": [
    {
     "data": {
      "text/plain": [
       "array(['jewelry.earring', 'jewelry.pendant', 'jewelry.necklace',\n",
       "       'jewelry.ring', 'jewelry.brooch', 'jewelry.bracelet'], dtype=object)"
      ]
     },
     "execution_count": 19,
     "metadata": {},
     "output_type": "execute_result"
    }
   ],
   "source": [
    "data['Category alias'].unique()"
   ]
  },
  {
   "cell_type": "code",
   "execution_count": 20,
   "metadata": {},
   "outputs": [
    {
     "data": {
      "text/plain": [
       "array(['earring', 'pendant', 'necklace', 'ring', 'brooch', 'bracelet'],\n",
       "      dtype=object)"
      ]
     },
     "execution_count": 20,
     "metadata": {},
     "output_type": "execute_result"
    }
   ],
   "source": [
    "# Cleanse Category column\n",
    "data['Category alias'] = data['Category alias'].str.replace(\"jewelry.\", \"\")\n",
    "data['Category alias'].unique()"
   ]
  },
  {
   "cell_type": "code",
   "execution_count": 35,
   "metadata": {},
   "outputs": [],
   "source": [
    "# Change type of date columns\n",
    "data['Order datetime'] = data['Order datetime'].astype(np.datetime64)"
   ]
  },
  {
   "cell_type": "code",
   "execution_count": 49,
   "metadata": {},
   "outputs": [
    {
     "data": {
      "text/html": [
       "<div>\n",
       "<style scoped>\n",
       "    .dataframe tbody tr th:only-of-type {\n",
       "        vertical-align: middle;\n",
       "    }\n",
       "\n",
       "    .dataframe tbody tr th {\n",
       "        vertical-align: top;\n",
       "    }\n",
       "\n",
       "    .dataframe thead th {\n",
       "        text-align: right;\n",
       "    }\n",
       "</style>\n",
       "<table border=\"1\" class=\"dataframe\">\n",
       "  <thead>\n",
       "    <tr style=\"text-align: right;\">\n",
       "      <th></th>\n",
       "      <th>Order datetime</th>\n",
       "      <th>Category</th>\n",
       "      <th>Price</th>\n",
       "      <th>Main color</th>\n",
       "      <th>Main metal</th>\n",
       "      <th>main gem</th>\n",
       "      <th>Order year</th>\n",
       "      <th>Order month</th>\n",
       "    </tr>\n",
       "  </thead>\n",
       "  <tbody>\n",
       "    <tr>\n",
       "      <th>0</th>\n",
       "      <td>2018-12-01 11:40:29</td>\n",
       "      <td>earring</td>\n",
       "      <td>561.51</td>\n",
       "      <td>red</td>\n",
       "      <td>gold</td>\n",
       "      <td>diamond</td>\n",
       "      <td>2018</td>\n",
       "      <td>December</td>\n",
       "    </tr>\n",
       "    <tr>\n",
       "      <th>1</th>\n",
       "      <td>2018-12-02 13:53:42</td>\n",
       "      <td>pendant</td>\n",
       "      <td>54.66</td>\n",
       "      <td>white</td>\n",
       "      <td>gold</td>\n",
       "      <td>sapphire</td>\n",
       "      <td>2018</td>\n",
       "      <td>December</td>\n",
       "    </tr>\n",
       "    <tr>\n",
       "      <th>2</th>\n",
       "      <td>2018-12-02 17:44:02</td>\n",
       "      <td>pendant</td>\n",
       "      <td>88.90</td>\n",
       "      <td>red</td>\n",
       "      <td>gold</td>\n",
       "      <td>diamond</td>\n",
       "      <td>2018</td>\n",
       "      <td>December</td>\n",
       "    </tr>\n",
       "  </tbody>\n",
       "</table>\n",
       "</div>"
      ],
      "text/plain": [
       "       Order datetime Category   Price Main color Main metal  main gem  \\\n",
       "0 2018-12-01 11:40:29  earring  561.51        red       gold   diamond   \n",
       "1 2018-12-02 13:53:42  pendant   54.66      white       gold  sapphire   \n",
       "2 2018-12-02 17:44:02  pendant   88.90        red       gold   diamond   \n",
       "\n",
       "   Order year Order month  \n",
       "0        2018    December  \n",
       "1        2018    December  \n",
       "2        2018    December  "
      ]
     },
     "execution_count": 49,
     "metadata": {},
     "output_type": "execute_result"
    }
   ],
   "source": [
    "# Change date format to year\n",
    "data['Order year'] = data['Order datetime'].dt.year\n",
    "data['Order month'] = data['Order datetime'].dt.month_name()\n",
    "\n",
    "# rename columns\n",
    "data = data.rename(columns={'Category alias': 'Category', 'Price in USD': 'Price'})\n",
    "data.head(3)"
   ]
  },
  {
   "cell_type": "code",
   "execution_count": 48,
   "metadata": {},
   "outputs": [
    {
     "data": {
      "text/plain": [
       "array([2018, 2019, 2020], dtype=int64)"
      ]
     },
     "execution_count": 48,
     "metadata": {},
     "output_type": "execute_result"
    }
   ],
   "source": [
    "data['Order year'].unique()"
   ]
  },
  {
   "cell_type": "code",
   "execution_count": 60,
   "metadata": {},
   "outputs": [
    {
     "data": {
      "text/html": [
       "<div>\n",
       "<style scoped>\n",
       "    .dataframe tbody tr th:only-of-type {\n",
       "        vertical-align: middle;\n",
       "    }\n",
       "\n",
       "    .dataframe tbody tr th {\n",
       "        vertical-align: top;\n",
       "    }\n",
       "\n",
       "    .dataframe thead th {\n",
       "        text-align: right;\n",
       "    }\n",
       "</style>\n",
       "<table border=\"1\" class=\"dataframe\">\n",
       "  <thead>\n",
       "    <tr style=\"text-align: right;\">\n",
       "      <th></th>\n",
       "      <th>Price</th>\n",
       "    </tr>\n",
       "    <tr>\n",
       "      <th>Order month</th>\n",
       "      <th></th>\n",
       "    </tr>\n",
       "  </thead>\n",
       "  <tbody>\n",
       "    <tr>\n",
       "      <th>February</th>\n",
       "      <td>121124.73</td>\n",
       "    </tr>\n",
       "    <tr>\n",
       "      <th>January</th>\n",
       "      <td>431415.95</td>\n",
       "    </tr>\n",
       "  </tbody>\n",
       "</table>\n",
       "</div>"
      ],
      "text/plain": [
       "                 Price\n",
       "Order month           \n",
       "February     121124.73\n",
       "January      431415.95"
      ]
     },
     "execution_count": 60,
     "metadata": {},
     "output_type": "execute_result"
    }
   ],
   "source": [
    "df = pd.DataFrame(data[data['Order year'] == 2020].groupby(['Order month'])['Price'].sum())\n",
    "df"
   ]
  }
 ],
 "metadata": {
  "kernelspec": {
   "display_name": "Python 3",
   "language": "python",
   "name": "python3"
  },
  "language_info": {
   "codemirror_mode": {
    "name": "ipython",
    "version": 3
   },
   "file_extension": ".py",
   "mimetype": "text/x-python",
   "name": "python",
   "nbconvert_exporter": "python",
   "pygments_lexer": "ipython3",
   "version": "3.8.5"
  }
 },
 "nbformat": 4,
 "nbformat_minor": 4
}
